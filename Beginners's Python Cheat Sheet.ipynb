{
 "cells": [
  {
   "cell_type": "markdown",
   "metadata": {},
   "source": [
    "   # Python "
   ]
  },
  {
   "cell_type": "markdown",
   "metadata": {},
   "source": [
    "- Python is a high-level, interpreted, interactive, object-oriented, and a reliable programming language that is very simple and uses English-like words.\n",
    "- Python is dynamically-typed and garbage-collected.  \n",
    "- It supports multiple programming paradigms, including structured (particularly, procedural), object-oriented and functional programming.\n",
    "- Python is a platform-independent,scripted language,with complete access to operating system APIs."
   ]
  },
  {
   "cell_type": "markdown",
   "metadata": {},
   "source": [
    "# Variables and Strings \n",
    "- Variables are used to store values.  \n",
    "- A string is a series of characters, surrounded by single or double quotes.  \n",
    "\n",
    "__NOTE:__ By default in python everything is string "
   ]
  },
  {
   "cell_type": "code",
   "execution_count": 41,
   "metadata": {},
   "outputs": [
    {
     "name": "stdout",
     "output_type": "stream",
     "text": [
      "hello world\n"
     ]
    }
   ],
   "source": [
    "#print hello world\n",
    "print(\"hello world\")"
   ]
  },
  {
   "cell_type": "code",
   "execution_count": 42,
   "metadata": {},
   "outputs": [
    {
     "name": "stdout",
     "output_type": "stream",
     "text": [
      "Hello World!\n"
     ]
    }
   ],
   "source": [
    "#print hello world with a variable \n",
    "msg = \"Hello World!\"\n",
    "print(msg)"
   ]
  },
  {
   "cell_type": "markdown",
   "metadata": {},
   "source": [
    "#### Concatenation (combining strings)\n",
    "- String concatenation is the operation of joining character strings end-to-end.   \n",
    "- __For example:__the concatenation of \"snow\" and \"ball\" is \"snowball\"."
   ]
  },
  {
   "cell_type": "code",
   "execution_count": 43,
   "metadata": {},
   "outputs": [
    {
     "name": "stdout",
     "output_type": "stream",
     "text": [
      "Ayush Sharma\n"
     ]
    }
   ],
   "source": [
    "first_name = \"Ayush\"\n",
    "last_name = \"Sharma\"\n",
    "full_name = first_name + ' ' + last_name\n",
    "print(full_name)"
   ]
  },
  {
   "cell_type": "markdown",
   "metadata": {},
   "source": [
    "## Lists\n",
    "- A list stores a series of items in a particular order.   \n",
    "- You can access items using an index, or with a loop.\n",
    "- The index starts from 0 in list.\n",
    "- Lists support negative index."
   ]
  },
  {
   "cell_type": "code",
   "execution_count": 44,
   "metadata": {},
   "outputs": [
    {
     "name": "stdout",
     "output_type": "stream",
     "text": [
      "['C', 'C++', 'Java', 'Python']\n",
      "<class 'list'>\n"
     ]
    }
   ],
   "source": [
    "#make a list\n",
    "languages = ['C', 'C++', 'Java', 'Python']\n",
    "print(languages)\n",
    "print(type(languages))"
   ]
  },
  {
   "cell_type": "code",
   "execution_count": 45,
   "metadata": {},
   "outputs": [
    {
     "name": "stdout",
     "output_type": "stream",
     "text": [
      "C\n"
     ]
    }
   ],
   "source": [
    "#get frist item in a list\n",
    "first_language = languages[0]\n",
    "print(first_language)"
   ]
  },
  {
   "cell_type": "code",
   "execution_count": 46,
   "metadata": {},
   "outputs": [
    {
     "name": "stdout",
     "output_type": "stream",
     "text": [
      "Python\n"
     ]
    }
   ],
   "source": [
    "#get last item in a list\n",
    "last_language = languages[-1]\n",
    "print(last_language)"
   ]
  },
  {
   "cell_type": "code",
   "execution_count": 47,
   "metadata": {},
   "outputs": [
    {
     "name": "stdout",
     "output_type": "stream",
     "text": [
      "C\n",
      "C++\n",
      "Java\n",
      "Python\n"
     ]
    }
   ],
   "source": [
    "#looping through a list\n",
    "for language in languages:\n",
    "    print(language)"
   ]
  },
  {
   "cell_type": "code",
   "execution_count": 48,
   "metadata": {},
   "outputs": [
    {
     "name": "stdout",
     "output_type": "stream",
     "text": [
      "['C', 'C++', 'Java', 'Python']\n"
     ]
    }
   ],
   "source": [
    "#adding items to empty list or a filled list\n",
    "languages = [ ]\n",
    "languages.append('C')\n",
    "languages.append('C++')\n",
    "languages.append('Java')\n",
    "languages.append('Python')\n",
    "print(languages)"
   ]
  },
  {
   "cell_type": "code",
   "execution_count": 49,
   "metadata": {},
   "outputs": [
    {
     "name": "stdout",
     "output_type": "stream",
     "text": [
      "[1, 4, 9, 16, 25, 36, 49, 64, 81, 100]\n"
     ]
    }
   ],
   "source": [
    "#making numerical lista\n",
    "squares = []\n",
    "for i in range(1,11):\n",
    "    squares.append(i**2)\n",
    "print(squares)"
   ]
  },
  {
   "cell_type": "markdown",
   "metadata": {},
   "source": [
    "## Tuples\n",
    "- Tuples are similar to lists, but the items in a tuple can't be modified i.e., tuples are immutable."
   ]
  },
  {
   "cell_type": "code",
   "execution_count": 50,
   "metadata": {},
   "outputs": [
    {
     "name": "stdout",
     "output_type": "stream",
     "text": [
      "(1920, 1080)\n",
      "<class 'tuple'>\n"
     ]
    }
   ],
   "source": [
    "#making a tuple\n",
    "dimensions = (1920,1080)\n",
    "print(dimensions)\n",
    "print(type(dimensions))"
   ]
  },
  {
   "cell_type": "markdown",
   "metadata": {},
   "source": [
    "## Dictionaries\n",
    "- Dictionaries store connections between pieces of information.  \n",
    "- Each item in a dictionary is a key-value pair."
   ]
  },
  {
   "cell_type": "code",
   "execution_count": 51,
   "metadata": {},
   "outputs": [
    {
     "name": "stdout",
     "output_type": "stream",
     "text": [
      "{'Burger': 35, 'Momos': 50, 'Pasta': 90}\n",
      "<class 'dict'>\n"
     ]
    }
   ],
   "source": [
    "#a simple dictionary\n",
    "foods = {'Burger' : 35,'Momos' : 50,'Pasta' : 90}\n",
    "print(foods)\n",
    "print(type(foods))"
   ]
  },
  {
   "cell_type": "code",
   "execution_count": 52,
   "metadata": {},
   "outputs": [
    {
     "name": "stdout",
     "output_type": "stream",
     "text": [
      "Price of a Burger is 35\n"
     ]
    }
   ],
   "source": [
    "#accessing a value\n",
    "print(\"Price of a Burger is\",foods['Burger'])"
   ]
  },
  {
   "cell_type": "code",
   "execution_count": 53,
   "metadata": {},
   "outputs": [
    {
     "name": "stdout",
     "output_type": "stream",
     "text": [
      "{'Burger': 35, 'Momos': 50, 'Pasta': 90, 'Spring Rolls': 40}\n"
     ]
    }
   ],
   "source": [
    "#adding a new key-value pair\n",
    "foods['Spring Rolls'] = 40\n",
    "print(foods)"
   ]
  },
  {
   "cell_type": "code",
   "execution_count": 54,
   "metadata": {},
   "outputs": [
    {
     "name": "stdout",
     "output_type": "stream",
     "text": [
      "Burger Prices 35\n",
      "Momos Prices 50\n",
      "Pasta Prices 90\n",
      "Spring Rolls Prices 40\n"
     ]
    }
   ],
   "source": [
    "#looping through all key-value pair\n",
    "for food,price in foods.items():\n",
    "    print(food,\"Prices\",price)"
   ]
  },
  {
   "cell_type": "code",
   "execution_count": 56,
   "metadata": {},
   "outputs": [
    {
     "name": "stdout",
     "output_type": "stream",
     "text": [
      "Burger is love.\n",
      "Momos is love.\n",
      "Pasta is love.\n",
      "Spring Rolls is love.\n"
     ]
    }
   ],
   "source": [
    "#looping through all key \n",
    "for food in foods.keys():\n",
    "    print(food,\"is love.\")"
   ]
  },
  {
   "cell_type": "code",
   "execution_count": 59,
   "metadata": {},
   "outputs": [
    {
     "name": "stdout",
     "output_type": "stream",
     "text": [
      "Food Prices 35\n",
      "Food Prices 50\n",
      "Food Prices 90\n",
      "Food Prices 40\n"
     ]
    }
   ],
   "source": [
    "#looping through all values\n",
    "for price in foods.values():\n",
    "    print(\"Food Prices\",price)"
   ]
  },
  {
   "cell_type": "markdown",
   "metadata": {},
   "source": [
    "## User input\n",
    "- Your program can prompt the user for input.  \n",
    "- All input stored as a string."
   ]
  },
  {
   "cell_type": "code",
   "execution_count": 60,
   "metadata": {},
   "outputs": [
    {
     "name": "stdout",
     "output_type": "stream",
     "text": [
      "What's your name? Ayush\n",
      "My name is Ayush !\n"
     ]
    }
   ],
   "source": [
    "#prompting a value\n",
    "name = input(\"What's your name? \")\n",
    "print(\"My name is\",name,\"!\")"
   ]
  },
  {
   "cell_type": "code",
   "execution_count": 62,
   "metadata": {},
   "outputs": [
    {
     "name": "stdout",
     "output_type": "stream",
     "text": [
      "What's your age? 20\n",
      "My age is 20\n"
     ]
    }
   ],
   "source": [
    "#prompting for numerical value\n",
    "age = input(\"What's your age? \")\n",
    "age = int(age)\n",
    "print(\"My age is\",age)"
   ]
  },
  {
   "cell_type": "code",
   "execution_count": 63,
   "metadata": {},
   "outputs": [
    {
     "name": "stdout",
     "output_type": "stream",
     "text": [
      "What's your age? 20\n",
      "My age is 20\n"
     ]
    }
   ],
   "source": [
    "#prompting for numerical value\n",
    "age = int(input(\"What's your age? \"))\n",
    "print(\"My age is\",age)"
   ]
  }
 ],
 "metadata": {
  "kernelspec": {
   "display_name": "Python 3",
   "language": "python",
   "name": "python3"
  },
  "language_info": {
   "codemirror_mode": {
    "name": "ipython",
    "version": 3
   },
   "file_extension": ".py",
   "mimetype": "text/x-python",
   "name": "python",
   "nbconvert_exporter": "python",
   "pygments_lexer": "ipython3",
   "version": "3.8.5"
  }
 },
 "nbformat": 4,
 "nbformat_minor": 4
}
